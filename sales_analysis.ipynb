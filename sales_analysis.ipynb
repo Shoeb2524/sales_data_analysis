{
 "cells": [
  {
   "cell_type": "markdown",
   "id": "ea0787f9",
   "metadata": {},
   "source": [
    "# 📊 Sales Data Analysis\n",
    "\n",
    "This notebook performs a detailed analysis on sales data, exploring revenue trends, customer demographics, product performance, and profitability insights."
   ]
  },
  {
   "cell_type": "code",
   "execution_count": null,
   "id": "80807af2",
   "metadata": {},
   "outputs": [],
   "source": [
    "import pandas as pd\n",
    "import matplotlib.pyplot as plt\n",
    "import seaborn as sns\n",
    "\n",
    "plt.style.use('ggplot')\n",
    "sns.set_theme(style='whitegrid')"
   ]
  },
  {
   "cell_type": "code",
   "execution_count": null,
   "id": "a647edba",
   "metadata": {},
   "outputs": [],
   "source": [
    "# Load data\n",
    "df = pd.read_csv('sales_data.csv')\n",
    "df.columns = df.columns.str.strip().str.lower().str.replace(' ', '_')\n",
    "df['date'] = pd.to_datetime(df['date'])\n",
    "df['month'] = df['date'].dt.to_period('M')\n",
    "df['year'] = df['date'].dt.year\n",
    "df.head()"
   ]
  },
  {
   "cell_type": "markdown",
   "id": "c3001038",
   "metadata": {},
   "source": [
    "## 📈 Monthly Revenue Trend"
   ]
  },
  {
   "cell_type": "code",
   "execution_count": null,
   "id": "f6b3ecbb",
   "metadata": {},
   "outputs": [],
   "source": [
    "monthly_revenue = df.groupby('month')['revenue'].sum()\n",
    "monthly_revenue.index = monthly_revenue.index.to_timestamp()\n",
    "monthly_revenue.plot(marker='o', figsize=(12, 6), title='Monthly Revenue Trend')\n",
    "plt.xlabel('Month')\n",
    "plt.ylabel('Revenue')\n",
    "plt.grid(True)\n",
    "plt.tight_layout()\n",
    "plt.show()"
   ]
  },
  {
   "cell_type": "markdown",
   "id": "96546457",
   "metadata": {},
   "source": [
    "## 🌍 Revenue by Country"
   ]
  },
  {
   "cell_type": "code",
   "execution_count": null,
   "id": "789b3a7d",
   "metadata": {},
   "outputs": [],
   "source": [
    "country_revenue = df.groupby('country')['revenue'].sum().sort_values(ascending=False)\n",
    "sns.barplot(x=country_revenue.index, y=country_revenue.values)\n",
    "plt.title('Revenue by Country')\n",
    "plt.xticks(rotation=45)\n",
    "plt.tight_layout()\n",
    "plt.show()"
   ]
  },
  {
   "cell_type": "markdown",
   "id": "e3c2919c",
   "metadata": {},
   "source": [
    "## 🏙️ Top 10 States by Revenue"
   ]
  },
  {
   "cell_type": "code",
   "execution_count": null,
   "id": "3a959541",
   "metadata": {},
   "outputs": [],
   "source": [
    "top_states = df.groupby('state')['revenue'].sum().nlargest(10)\n",
    "top_states.plot(kind='bar', figsize=(10,5), title='Top 10 States by Revenue')\n",
    "plt.xticks(rotation=45)\n",
    "plt.tight_layout()\n",
    "plt.show()"
   ]
  },
  {
   "cell_type": "markdown",
   "id": "a276e289",
   "metadata": {},
   "source": [
    "## 🛍️ Revenue by Product Category"
   ]
  },
  {
   "cell_type": "code",
   "execution_count": null,
   "id": "18c0e45c",
   "metadata": {},
   "outputs": [],
   "source": [
    "category_revenue = df.groupby('product_category')['revenue'].sum().sort_values(ascending=False)\n",
    "sns.barplot(x=category_revenue.index, y=category_revenue.values)\n",
    "plt.title('Revenue by Product Category')\n",
    "plt.xticks(rotation=45)\n",
    "plt.tight_layout()\n",
    "plt.show()"
   ]
  },
  {
   "cell_type": "markdown",
   "id": "bac052ca",
   "metadata": {},
   "source": [
    "## 📦 Top 10 Products by Revenue"
   ]
  },
  {
   "cell_type": "code",
   "execution_count": null,
   "id": "466e6447",
   "metadata": {},
   "outputs": [],
   "source": [
    "top_products = df.groupby('product')['revenue'].sum().nlargest(10)\n",
    "top_products.plot(kind='bar', figsize=(10,5), title='Top 10 Products by Revenue')\n",
    "plt.xticks(rotation=45)\n",
    "plt.tight_layout()\n",
    "plt.show()"
   ]
  },
  {
   "cell_type": "markdown",
   "id": "136711ae",
   "metadata": {},
   "source": [
    "## 👩‍💼 Revenue by Gender"
   ]
  },
  {
   "cell_type": "code",
   "execution_count": null,
   "id": "2c48d109",
   "metadata": {},
   "outputs": [],
   "source": [
    "gender_revenue = df.groupby('customer_gender')['revenue'].sum()\n",
    "gender_revenue.plot(kind='pie', autopct='%1.1f%%', startangle=90, shadow=True, figsize=(6, 6))\n",
    "plt.title('Revenue by Customer Gender')\n",
    "plt.ylabel('')\n",
    "plt.tight_layout()\n",
    "plt.show()"
   ]
  },
  {
   "cell_type": "markdown",
   "id": "9144c0c2",
   "metadata": {},
   "source": [
    "## 👶 Revenue by Age Group"
   ]
  },
  {
   "cell_type": "code",
   "execution_count": null,
   "id": "eb9c4aa0",
   "metadata": {},
   "outputs": [],
   "source": [
    "age_group_revenue = df.groupby('age_group')['revenue'].sum().sort_values(ascending=False)\n",
    "sns.barplot(x=age_group_revenue.index, y=age_group_revenue.values)\n",
    "plt.title('Revenue by Age Group')\n",
    "plt.tight_layout()\n",
    "plt.show()"
   ]
  },
  {
   "cell_type": "markdown",
   "id": "2480f9d9",
   "metadata": {},
   "source": [
    "## 📈 Profit vs Revenue by Category"
   ]
  },
  {
   "cell_type": "code",
   "execution_count": null,
   "id": "0b14d55e",
   "metadata": {},
   "outputs": [],
   "source": [
    "sns.scatterplot(x='revenue', y='profit', hue='product_category', data=df)\n",
    "plt.title('Profit vs Revenue by Product Category')\n",
    "plt.tight_layout()\n",
    "plt.show()"
   ]
  },
  {
   "cell_type": "markdown",
   "id": "529e8e80",
   "metadata": {},
   "source": [
    "## 📌 Key Insights\n",
    "- Revenue peaks around certain months suggesting seasonal trends.\n",
    "- A few product categories dominate sales.\n",
    "- Gender and age groups vary in spending behavior.\n",
    "- Some products generate high revenue but low profit, highlighting margin challenges."
   ]
  },
  {
   "cell_type": "markdown",
   "id": "3f81a5d3",
   "metadata": {},
   "source": [
    "## ✅ Conclusion\n",
    "This analysis provides actionable insights into sales performance across regions, products, and customer demographics. Future analysis could include customer lifetime value, churn prediction, or promotional strategy impact."
   ]
  }
 ],
 "metadata": {},
 "nbformat": 4,
 "nbformat_minor": 5
}
